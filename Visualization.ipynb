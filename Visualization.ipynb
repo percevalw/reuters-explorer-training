{
 "cells": [
  {
   "cell_type": "code",
   "execution_count": 35,
   "metadata": {},
   "outputs": [],
   "source": [
    "import pickle\n",
    "from keras.layers import Dense, Input, LSTM, Embedding, Dropout, Activation\n",
    "from keras.optimizers import Nadam\n",
    "from keras.models import Model\n",
    "import numpy as np\n",
    "from sklearn.manifold import TSNE\n",
    "from metrics import precision, recall, f1\n",
    "from __future__ import print_function\n",
    "from ipywidgets import interact, interactive, fixed, interact_manual\n",
    "import ipywidgets as widgets\n",
    "%matplotlib inline\n",
    "import matplotlib\n",
    "import matplotlib.pyplot as plt"
   ]
  },
  {
   "cell_type": "code",
   "execution_count": 1,
   "metadata": {
    "collapsed": true
   },
   "outputs": [],
   "source": [
    "params = {\n",
    "  'ACTIVATION_FN': 'relu',\n",
    "  'BATCH_SIZE': 64,\n",
    "  'EMBEDDING_DIM': 100,\n",
    "  'EPOCHS': 100,\n",
    "  'LR': 0.001,\n",
    "  'MAX_NB_WORDS': 10000,\n",
    "  'MAX_SEQUENCE_LENGTH': 300,\n",
    "  'NUM_CLASSES': 90,\n",
    "  'NUM_DENSE': 200,\n",
    "  'NUM_LSTM': 300,\n",
    "  'PATIENCE': 2,\n",
    "  'RATE_DROP_DENSE': 0.2,\n",
    "  'RATE_DROP_LSTM': 0.2,\n",
    "  'VALIDATION_SPLIT': 0.2,\n",
    "  'metrics_acc': 0.77012255713812516,\n",
    "  'metrics_f1': 0.77711240909775625,\n",
    "  'metrics_loss': 7.148816829092576,\n",
    "  'metrics_prec': 0.81774655224802373,\n",
    "  'metrics_rec': 0.76228632478632474,\n",
    "}"
   ]
  },
  {
   "cell_type": "markdown",
   "metadata": {},
   "source": [
    "### Load the data"
   ]
  },
  {
   "cell_type": "code",
   "execution_count": 25,
   "metadata": {},
   "outputs": [
    {
     "name": "stdout",
     "output_type": "stream",
     "text": [
      "Searching for dataset file dataset/dataset-NB_WORDS_10000_MAX_SEQ_LENGTH_300.pkl\n",
      "File found\n"
     ]
    }
   ],
   "source": [
    "dataset_filename = \"dataset/dataset-NB_WORDS_10000_MAX_SEQ_LENGTH_300.pkl\".format(\n",
    "    params['MAX_NB_WORDS'],\n",
    "    params['MAX_SEQUENCE_LENGTH']\n",
    ")\n",
    "\n",
    "print(\"Searching for dataset file {}\".format(dataset_filename))\n",
    "try:\n",
    "    file_content = pickle.load(open(dataset_filename, \"rb\"))\n",
    "except (OSError, IOError):\n",
    "    print(\"File not found\")\n",
    "else:\n",
    "    print(\"File found\")\n",
    "train_sequences, train_categories, test_sequences, test_categories, train_fileids, test_fileids, word_index = file_content\n",
    "all_sequences = np.concatenate((train_sequences, test_sequences))\n",
    "all_fileids = np.concatenate((train_fileids, test_fileids))\n",
    "all_categories = np.concatenate((train_categories, test_categories))"
   ]
  },
  {
   "cell_type": "markdown",
   "metadata": {},
   "source": [
    "### Build models\n",
    "The full model and the one used to extract documents representations"
   ]
  },
  {
   "cell_type": "code",
   "execution_count": 20,
   "metadata": {},
   "outputs": [
    {
     "name": "stdout",
     "output_type": "stream",
     "text": [
      "_________________________________________________________________\n",
      "Layer (type)                 Output Shape              Param #   \n",
      "=================================================================\n",
      "input_3 (InputLayer)         (None, 300)               0         \n",
      "_________________________________________________________________\n",
      "embedding_3 (Embedding)      (None, 300, 100)          1000000   \n",
      "_________________________________________________________________\n",
      "lstm_3 (LSTM)                (None, 300)               481200    \n",
      "_________________________________________________________________\n",
      "dense_5 (Dense)              (None, 200)               60200     \n",
      "_________________________________________________________________\n",
      "dropout_3 (Dropout)          (None, 200)               0         \n",
      "_________________________________________________________________\n",
      "dense_6 (Dense)              (None, 90)                18090     \n",
      "=================================================================\n",
      "Total params: 1,559,490\n",
      "Trainable params: 1,559,490\n",
      "Non-trainable params: 0\n",
      "_________________________________________________________________\n"
     ]
    }
   ],
   "source": [
    "def make_model(params, word_index):\n",
    "    \"\"\"Builds the model\"\"\"\n",
    "    embedding_layer = Embedding(\n",
    "        input_dim=params['MAX_NB_WORDS'],\n",
    "        output_dim=params['EMBEDDING_DIM'],\n",
    "        input_length=params['MAX_SEQUENCE_LENGTH'])\n",
    "    lstm_layer = LSTM(params['NUM_LSTM'], dropout=params['RATE_DROP_LSTM'], recurrent_dropout=params['RATE_DROP_LSTM'])\n",
    "\n",
    "    sequence_1_input = Input(shape=(params['MAX_SEQUENCE_LENGTH'],), dtype='int32')\n",
    "    embedded_sequences_1 = embedding_layer(sequence_1_input)\n",
    "    merged = lstm_layer(embedded_sequences_1)\n",
    "\n",
    "    merged = Dense(params['NUM_DENSE'], activation=params['ACTIVATION_FN'])(merged)\n",
    "    merged = Dropout(params['RATE_DROP_DENSE'])(merged)\n",
    "\n",
    "    preds = Dense(params['NUM_CLASSES'], activation='sigmoid')(merged)\n",
    "\n",
    "    model = Model(inputs=[sequence_1_input], outputs=preds)\n",
    "    model.compile(\n",
    "        loss='binary_crossentropy',\n",
    "        optimizer=Nadam(lr=params['LR']),\n",
    "        metrics=['acc', precision, recall, f1]\n",
    "    )\n",
    "    model.summary()\n",
    "    model_bis = Model(inputs=[sequence_1_input], outputs=merged)\n",
    "    return model, model_bis\n",
    "model, model_bis = make_model(params, word_index)"
   ]
  },
  {
   "cell_type": "code",
   "execution_count": 21,
   "metadata": {
    "collapsed": true
   },
   "outputs": [],
   "source": [
    "model.load_weights(\"model-20171214-121501.h5\")"
   ]
  },
  {
   "cell_type": "code",
   "execution_count": 26,
   "metadata": {},
   "outputs": [],
   "source": [
    "REPR_PATH = \"model-20171214-121501-representations.pkl\"\n",
    "try:\n",
    "    all_representations, _ = pickle.load(open(REPR_PATH, \"rb\"))\n",
    "except (OSError, IOError):\n",
    "    print(\"Representations not found, computing them now\")\n",
    "    all_representations = model_bis.predict(all_sequences)\n",
    "    pickle.dump((all_representations, all_fileids), open(REPR_PATH, \"wb\"))"
   ]
  },
  {
   "cell_type": "code",
   "execution_count": 30,
   "metadata": {},
   "outputs": [
    {
     "name": "stdout",
     "output_type": "stream",
     "text": [
      "[t-SNE] Computing 121 nearest neighbors...\n",
      "[t-SNE] Indexed 10788 samples in 0.254s...\n",
      "[t-SNE] Computed neighbors for 10788 samples in 33.938s...\n",
      "[t-SNE] Computed conditional probabilities for sample 1000 / 10788\n",
      "[t-SNE] Computed conditional probabilities for sample 2000 / 10788\n",
      "[t-SNE] Computed conditional probabilities for sample 3000 / 10788\n",
      "[t-SNE] Computed conditional probabilities for sample 4000 / 10788\n",
      "[t-SNE] Computed conditional probabilities for sample 5000 / 10788\n",
      "[t-SNE] Computed conditional probabilities for sample 6000 / 10788\n",
      "[t-SNE] Computed conditional probabilities for sample 7000 / 10788\n",
      "[t-SNE] Computed conditional probabilities for sample 8000 / 10788\n",
      "[t-SNE] Computed conditional probabilities for sample 9000 / 10788\n",
      "[t-SNE] Computed conditional probabilities for sample 10000 / 10788\n",
      "[t-SNE] Computed conditional probabilities for sample 10788 / 10788\n",
      "[t-SNE] Mean sigma: 1.098068\n",
      "[t-SNE] KL divergence after 250 iterations with early exaggeration: 72.905113\n",
      "[t-SNE] Error after 300 iterations: 2.478541\n"
     ]
    }
   ],
   "source": [
    "n_sne = 7000\n",
    "\n",
    "tsne = TSNE(n_components=2, verbose=1, perplexity=40, n_iter=300)\n",
    "tsne_results = tsne.fit_transform(all_representations)"
   ]
  },
  {
   "cell_type": "markdown",
   "metadata": {},
   "source": [
    "### Interactive visualization"
   ]
  },
  {
   "cell_type": "code",
   "execution_count": 31,
   "metadata": {
    "collapsed": true
   },
   "outputs": [],
   "source": [
    "def show_class(b1=0):\n",
    "    #b1 = 24\n",
    "    b2 = b1 + 1\n",
    "    subset = (all_categories[:, b1:b2].sum(axis=1) > 0)\n",
    "    vis_x = tsne_results[:, 0]#[np.any(np.logical_and(test_categories > b1, test_categories < b2), axis=1)]\n",
    "    vis_y = tsne_results[:, 1]#[np.any(np.logical_and(test_categories > b1, test_categories < b2), axis=1)]\n",
    "\n",
    "    colors = np.zeros((len(all_categories),),)\n",
    "    colors[subset] = 10\n",
    "    plt.scatter(vis_x, vis_y, c=colors, cmap=plt.cm.get_cmap(\"jet\", 10))\n",
    "    #plt.colorbar(ticks=range(90))\n",
    "    plt.clim(-0.5, 9.5)\n",
    "    plt.show()"
   ]
  },
  {
   "cell_type": "code",
   "execution_count": 36,
   "metadata": {},
   "outputs": [
    {
     "data": {
      "image/png": "[encoded data removed]",
      "text/plain": [
       "<matplotlib.figure.Figure at 0x1210ad588>"
      ]
     },
     "metadata": {},
     "output_type": "display_data"
    }
   ],
   "source": [
    "interactive_plot = interactive(show_class, b1=(0, 89, 1), style=\"width:300px\")\n",
    "interactive_plot"
   ]
  }
 ],
 "metadata": {
  "anaconda-cloud": {},
  "kernelspec": {
   "display_name": "Python [default]",
   "language": "python",
   "name": "python3"
  },
  "language_info": {
   "codemirror_mode": {
    "name": "ipython",
    "version": 3
   },
   "file_extension": ".py",
   "mimetype": "text/x-python",
   "name": "python",
   "nbconvert_exporter": "python",
   "pygments_lexer": "ipython3",
   "version": "3.5.4"
  },
  "widgets": {
   "state": {
    "04f1ec7bb8914b048670e404b6445f8f": {
     "views": [
      {
       "cell_index": 11
      }
     ]
    }
   },
   "version": "1.2.0"
  }
 },
 "nbformat": 4,
 "nbformat_minor": 1
}
