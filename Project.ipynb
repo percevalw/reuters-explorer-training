{
 "cells": [
  {
   "cell_type": "code",
   "execution_count": 166,
   "metadata": {},
   "outputs": [],
   "source": [
    "########################################\n",
    "## import packages\n",
    "########################################\n",
    "import os\n",
    "import re\n",
    "import csv\n",
    "import codecs\n",
    "import numpy as np\n",
    "import pandas as pd\n",
    "\n",
    "from nltk.corpus import stopwords\n",
    "from nltk.stem import SnowballStemmer\n",
    "from string import punctuation\n",
    "\n",
    "from gensim.models import KeyedVectors\n",
    "from keras.preprocessing.text import Tokenizer\n",
    "from keras.preprocessing.sequence import pad_sequences\n",
    "from keras.layers import Dense, Input, LSTM, Embedding, Dropout, Activation\n",
    "from keras.layers.merge import concatenate\n",
    "from keras.models import Model\n",
    "from keras.layers.normalization import BatchNormalization\n",
    "from keras.callbacks import EarlyStopping, ModelCheckpoint\n",
    "from keras.utils import np_utils\n",
    "\n",
    "from nltk.corpus import reuters\n",
    "from random import shuffle\n",
    "from tqdm import tqdm_notebook"
   ]
  },
  {
   "cell_type": "code",
   "execution_count": 189,
   "metadata": {
    "collapsed": true
   },
   "outputs": [],
   "source": [
    "import pickle"
   ]
  },
  {
   "cell_type": "code",
   "execution_count": 211,
   "metadata": {},
   "outputs": [
    {
     "name": "stdout",
     "output_type": "stream",
     "text": [
      "Found 400000 word vectors.\n"
     ]
    }
   ],
   "source": [
    "embeddings_index = {}\n",
    "with open('dataset/glove.6B.100d.txt') as f:\n",
    "    for line in f:\n",
    "        values = line.split()\n",
    "        word = values[0]\n",
    "        coefs = np.asarray(values[1:], dtype='float32')\n",
    "        embeddings_index[word] = coefs\n",
    "    f.close()\n",
    "\n",
    "print('Found %s word vectors.' % len(embeddings_index))"
   ]
  },
  {
   "cell_type": "code",
   "execution_count": 214,
   "metadata": {},
   "outputs": [],
   "source": [
    "def make_data(params):\n",
    "    \"\"\"Load reuters datasets, categories, and preprocesses the texts\"\"\"\n",
    "    dataset_filename = \"dataset-TESTSPLIT_{}_NB_WORDS_{}_MAX_SEQ_LENGTH_{}.pkl\".format(\n",
    "        params['TEST_SPLIT'],\n",
    "        params['MAX_NB_WORDS'],\n",
    "        params['MAX_SEQUENCE_LENGTH']\n",
    "    )\n",
    "\n",
    "    #print(\"Searching for dataset file {}\".format(dataset_filename))\n",
    "    #try:\n",
    "    #    file_content = pickle.load(open(dataset_filename, \"rb\"))\n",
    "    #except (OSError, IOError):\n",
    "    #    print(\"File not found\")\n",
    "    #else:\n",
    "    #    print(\"File found\")\n",
    "    #    return file_content\n",
    "\n",
    "    nltk.download('stopwords')\n",
    "    nltk.download('reuters')\n",
    "    nltk.download('punkt')\n",
    "\n",
    "    categories_to_idx = {c: i for i, c in enumerate(reuters.categories())}\n",
    "\n",
    "    stop_words = set(stopwords.words(\"english\"))\n",
    "    stemmer = SnowballStemmer('english')\n",
    "    dataset = []\n",
    "    for category in reuters.categories():\n",
    "        for file_id in reuters.fileids(category):\n",
    "            txt = reuters.raw(file_id)\n",
    "            txt_lower = txt.lower()\n",
    "            list_of_words = [stemmer.stem(w) for w in word_tokenize(txt_lower) if w not in stop_words]\n",
    "            dataset.append((\" \".join(list_of_words), categories_to_idx[category]))\n",
    "\n",
    "    # Shuffle the dataset\n",
    "    shuffle(dataset)\n",
    "\n",
    "    # Make train and test sets\n",
    "    test_limit = int(len(dataset)*params['TEST_SPLIT'])\n",
    "    test_set = dataset[:test_limit]\n",
    "    train_set = dataset[test_limit:]\n",
    "\n",
    "    # Fit the tokenizer on train texts\n",
    "    tokenizer = Tokenizer(num_words=params['MAX_NB_WORDS'])\n",
    "    tokenizer.fit_on_texts((txt for txt, category in dataset))\n",
    "\n",
    "    # Convert them to indices and truncate them if they are too large\n",
    "    train_sequences = pad_sequences(\n",
    "        sequences=tokenizer.texts_to_sequences((txt for txt, category in train_set)),\n",
    "        maxlen=params['MAX_SEQUENCE_LENGTH'])\n",
    "    test_sequences = pad_sequences(\n",
    "        sequences=tokenizer.texts_to_sequences((txt for txt, category in test_set)),\n",
    "        maxlen=params['MAX_SEQUENCE_LENGTH'])\n",
    "    train_categories = [category for txt, category in train_set]\n",
    "    test_categories = [category for txt, category in test_set]\n",
    "    pickle.dump((train_sequences, train_categories, test_sequences, test_categories), open(dataset_filename, \"wb\"))\n",
    "\n",
    "    return train_sequences, train_categories, test_sequences, test_categories, tokenizer.word_index"
   ]
  },
  {
   "cell_type": "code",
   "execution_count": 215,
   "metadata": {},
   "outputs": [
    {
     "name": "stdout",
     "output_type": "stream",
     "text": [
      "[nltk_data] Downloading package stopwords to\n",
      "[nltk_data]     /Users/perceval/nltk_data...\n",
      "[nltk_data]   Package stopwords is already up-to-date!\n",
      "[nltk_data] Downloading package reuters to\n",
      "[nltk_data]     /Users/perceval/nltk_data...\n",
      "[nltk_data]   Package reuters is already up-to-date!\n",
      "[nltk_data] Downloading package punkt to /Users/perceval/nltk_data...\n",
      "[nltk_data]   Package punkt is already up-to-date!\n"
     ]
    }
   ],
   "source": [
    "train_sequences, train_categories, test_sequences, test_categories, tokenizer = make_data(params)"
   ]
  },
  {
   "cell_type": "code",
   "execution_count": 220,
   "metadata": {},
   "outputs": [],
   "source": [
    "word_index = tokenizer.word_index\n",
    "EMBEDDING_DIM = 100"
   ]
  },
  {
   "cell_type": "code",
   "execution_count": 221,
   "metadata": {},
   "outputs": [],
   "source": [
    "embedding_matrix = np.zeros((len(word_index) + 1, EMBEDDING_DIM))\n",
    "for word, i in word_index.items():\n",
    "    embedding_vector = embeddings_index.get(word)\n",
    "    if embedding_vector is not None:\n",
    "        # words not found in embedding index will be all-zeros.\n",
    "        embedding_matrix[i] = embedding_vector"
   ]
  },
  {
   "cell_type": "code",
   "execution_count": 185,
   "metadata": {},
   "outputs": [
    {
     "name": "stdout",
     "output_type": "stream",
     "text": [
      "_________________________________________________________________\n",
      "Layer (type)                 Output Shape              Param #   \n",
      "=================================================================\n",
      "input_6 (InputLayer)         (None, 300)               0         \n",
      "_________________________________________________________________\n",
      "embedding_6 (Embedding)      (None, 300, 25)           250000    \n",
      "_________________________________________________________________\n",
      "lstm_6 (LSTM)                (None, 200)               180800    \n",
      "_________________________________________________________________\n",
      "dropout_11 (Dropout)         (None, 200)               0         \n",
      "_________________________________________________________________\n",
      "batch_normalization_11 (Batc (None, 200)               800       \n",
      "_________________________________________________________________\n",
      "dense_11 (Dense)             (None, 120)               24120     \n",
      "_________________________________________________________________\n",
      "dropout_12 (Dropout)         (None, 120)               0         \n",
      "_________________________________________________________________\n",
      "batch_normalization_12 (Batc (None, 120)               480       \n",
      "_________________________________________________________________\n",
      "dense_12 (Dense)             (None, 90)                10890     \n",
      "=================================================================\n",
      "Total params: 467,090\n",
      "Trainable params: 466,450\n",
      "Non-trainable params: 640\n",
      "_________________________________________________________________\n"
     ]
    }
   ],
   "source": [
    "def make_model(params):\n",
    "    \"\"\"Builds the model\"\"\"\n",
    "    embedding_layer = Embedding(\n",
    "        input_dim=params['MAX_NB_WORDS'],\n",
    "        output_dim=params['EMBEDDING_DIM'],\n",
    "        # weights=[embedding_matrix],\n",
    "        input_length=params['MAX_SEQUENCE_LENGTH'])\n",
    "    lstm_layer = LSTM(params['NUM_LSTM'], dropout=params['RATE_DROP_LSTM'], recurrent_dropout=params['RATE_DROP_LSTM'])\n",
    "\n",
    "    sequence_1_input = Input(shape=(params['MAX_SEQUENCE_LENGTH'],), dtype='int32')\n",
    "    embedded_sequences_1 = embedding_layer(sequence_1_input)\n",
    "    x1 = lstm_layer(embedded_sequences_1)\n",
    "\n",
    "    # sequence_2_input = Input(shape=(MAX_SEQUENCE_LENGTH,), dtype='int32')\n",
    "    # embedded_sequences_2 = embedding_layer(sequence_2_input)\n",
    "    # y1 = lstm_layer(embedded_sequences_2)\n",
    "    #\n",
    "    # merged = concatenate([x1, y1])\n",
    "    merged = Dropout(params['RATE_DROP_DENSE'])(x1)  # (merged)\n",
    "    merged = BatchNormalization()(merged)\n",
    "\n",
    "    merged = Dense(params['NUM_DENSE'], activation=params['ACTIVATION_FN'])(merged)\n",
    "    merged = Dropout(params['RATE_DROP_DENSE'])(merged)\n",
    "    merged = BatchNormalization()(merged)\n",
    "\n",
    "    preds = Dense(params['NUM_CLASSES'], activation='softmax')(merged)\n",
    "\n",
    "    model = Model(inputs=[sequence_1_input], outputs=preds)\n",
    "    model.compile(\n",
    "        loss='categorical_crossentropy',\n",
    "        optimizer='nadam',\n",
    "        metrics=['acc']\n",
    "    )\n",
    "    model.summary()\n",
    "    return model\n",
    "model = make_model(params)"
   ]
  },
  {
   "cell_type": "code",
   "execution_count": 176,
   "metadata": {
    "collapsed": true
   },
   "outputs": [],
   "source": [
    "params_dict = {\n",
    "    \"NUM_CLASSES\": len(reuters.categories()),\n",
    "    \"MAX_SEQUENCE_LENGTH\": 300,\n",
    "    \"MAX_NB_WORDS\": 10000,\n",
    "    \"EMBEDDING_DIM\": 25,\n",
    "    \"VALIDATION_SPLIT\": 0.1,\n",
    "    \"TEST_SPLIT\": 0.2,\n",
    "    \"NUM_LSTM\": 200,\n",
    "    \"NUM_DENSE\": 120,\n",
    "    \"RATE_DROP_LSTM\": 0.2,\n",
    "    \"RATE_DROP_DENSE\": 0.2,\n",
    "    \"ACTIVATION_FN\": 'relu',\n",
    "    \"PATIENCE\": 3,\n",
    "    \"EPOCHS\": 100,\n",
    "    \"BATCH_SIZE\": 64,\n",
    "}"
   ]
  },
  {
   "cell_type": "code",
   "execution_count": 183,
   "metadata": {},
   "outputs": [
    {
     "name": "stdout",
     "output_type": "stream",
     "text": [
      "{\n",
      "  NUM_LSTM: 200,\n",
      "  TEST_SPLIT: 0.2,\n",
      "  MAX_NB_WORDS: 10000,\n",
      "  VALIDATION_SPLIT: 0.1,\n",
      "  NUM_CLASSES: 90,\n",
      "  MAX_SEQUENCE_LENGTH: 300,\n",
      "  ACTIVATION_FN: 'relu',\n",
      "  EMBEDDING_DIM: 25,\n",
      "  RATE_DROP_DENSE: 0.2,\n",
      "  RATE_DROP_LSTM: 0.2,\n",
      "  NUM_DENSE: 120,\n",
      "}\n"
     ]
    }
   ],
   "source": [
    "print(\"{{\\n{}\\n}}\".format(\"\\n\".join(\"  {}: {},\".format(k, repr(v)) for k, v in params.items())))"
   ]
  },
  {
   "cell_type": "code",
   "execution_count": 159,
   "metadata": {},
   "outputs": [
    {
     "name": "stdout",
     "output_type": "stream",
     "text": [
      "lstm_200_120_0.20_0.20\n"
     ]
    }
   ],
   "source": [
    "STAMP = 'lstm_%d_%d_%.2f_%.2f'%(num_lstm, num_dense, rate_drop_lstm, rate_drop_dense)\n",
    "print(STAMP)"
   ]
  },
  {
   "cell_type": "code",
   "execution_count": 164,
   "metadata": {},
   "outputs": [
    {
     "data": {
      "text/plain": [
       "(10662,)"
      ]
     },
     "execution_count": 164,
     "metadata": {},
     "output_type": "execute_result"
    }
   ],
   "source": [
    "train_categories.shape"
   ]
  },
  {
   "cell_type": "code",
   "execution_count": null,
   "metadata": {
    "collapsed": true
   },
   "outputs": [],
   "source": [
    "early_stopping = EarlyStopping(monitor='val_loss', patience=3)\n",
    "bst_model_path = STAMP + '.h5'\n",
    "model_checkpoint = ModelCheckpoint(bst_model_path, save_best_only=True, save_weights_only=True)\n",
    "\n",
    "hist = model.fit(\n",
    "    x=train_sequences_padded,\n",
    "    y=np_utils.to_categorical(train_categories),\n",
    "    validation_split=validation_split,\n",
    "    epochs=100,\n",
    "    batch_size=64,\n",
    "    shuffle=True,\n",
    "    #class_weight=class_weight,\n",
    "    callbacks=[early_stopping, model_checkpoint])"
   ]
  },
  {
   "cell_type": "code",
   "execution_count": 169,
   "metadata": {
    "collapsed": true
   },
   "outputs": [],
   "source": [
    "%matplotlib inline\n",
    "import matplotlib\n",
    "import matplotlib.pyplot as plt"
   ]
  },
  {
   "cell_type": "code",
   "execution_count": 186,
   "metadata": {},
   "outputs": [],
   "source": [
    "model.load_weights('model-20171211-230432.h5')"
   ]
  },
  {
   "cell_type": "code",
   "execution_count": 202,
   "metadata": {},
   "outputs": [
    {
     "data": {
      "text/plain": [
       "(2665,)"
      ]
     },
     "execution_count": 202,
     "metadata": {},
     "output_type": "execute_result"
    }
   ],
   "source": [
    "np.array(test_categories).shape"
   ]
  },
  {
   "cell_type": "code",
   "execution_count": 205,
   "metadata": {},
   "outputs": [
    {
     "name": "stdout",
     "output_type": "stream",
     "text": [
      "2665/2665 [==============================] - 23s 9ms/step\n"
     ]
    },
    {
     "data": {
      "text/plain": [
       "[2.7894735943756674, 0.30881801129058423]"
      ]
     },
     "execution_count": 205,
     "metadata": {},
     "output_type": "execute_result"
    }
   ],
   "source": []
  },
  {
   "cell_type": "code",
   "execution_count": 209,
   "metadata": {
    "collapsed": true
   },
   "outputs": [],
   "source": [
    "from sklearn.utils import class_weight\n",
    "class_weight = class_weight.compute_class_weight('balanced', np.unique(train_categories), train_categories)\n",
    "#model.fit(X_train, y_train, class_weight=class_weight)"
   ]
  },
  {
   "cell_type": "code",
   "execution_count": 210,
   "metadata": {},
   "outputs": [
    {
     "data": {
      "text/plain": [
       "array([  6.23895618e-02,   2.57560386e+00,   2.96194444e+00,\n",
       "         1.44485095e+00,   2.19403292e+00,   1.18477778e+02,\n",
       "         2.07855750e+00,   2.96194444e+01,   2.96194444e+01,\n",
       "         1.17304730e+00,   2.15414141e+00,   5.92388889e+01,\n",
       "         6.13874496e-01,   2.52080378e+00,   3.94925926e+01,\n",
       "         1.39385621e+00,   3.94925926e+01,   2.54244158e-01,\n",
       "         3.94925926e+01,   8.84162521e-01,   1.18477778e+01,\n",
       "         3.76478480e-02,   5.64179894e+00,   2.63283951e+00,\n",
       "         1.07707071e+00,   1.11771488e+00,   2.60390720e-01,\n",
       "         1.69253968e+01,   1.18477778e+02,   6.58209877e+00,\n",
       "         7.40486111e+00,   9.11367521e+00,   1.07707071e+01,\n",
       "         2.96194444e+01,   3.07734488e-01,   2.63283951e+00,\n",
       "         2.69267677e+00,   2.36955556e+01,   1.97462963e+00,\n",
       "         2.36955556e+01,   5.64179894e+00,   9.87314815e+00,\n",
       "         5.92388889e+01,   1.44485095e+00,   9.87314815e+00,\n",
       "         3.29104938e+00,   2.00809793e-01,   8.40267928e-01,\n",
       "         2.36955556e+01,   1.42744311e+00,   1.48097222e+01,\n",
       "         5.92388889e+01,   3.94925926e+01,   1.07707071e+01,\n",
       "         9.04410517e-01,   4.93657407e+00,   3.94925926e+01,\n",
       "         3.59023569e+00,   5.92388889e+01,   4.93657407e+00,\n",
       "         1.07707071e+01,   2.36955556e+01,   1.97462963e+01,\n",
       "         5.92388889e+01,   1.97462963e+01,   5.92388889e+00,\n",
       "         1.97462963e+00,   6.23567251e+00,   2.36955556e+00,\n",
       "         2.75529716e+00,   5.92388889e+01,   5.02024482e-01,\n",
       "         5.15120773e+00,   4.38806584e+00,   6.23567251e+00,\n",
       "         6.23567251e+00,   1.41044974e+00,   5.64179894e+00,\n",
       "         9.40299824e-01,   1.18477778e+02,   1.97462963e+01,\n",
       "         7.89851852e+00,   9.87314815e+00,   5.38535354e+00,\n",
       "         3.01470172e-01,   1.20895692e+00,   5.31290483e-01,\n",
       "         4.93657407e+00,   2.52080378e+00,   3.82186380e+00])"
      ]
     },
     "execution_count": 210,
     "metadata": {},
     "output_type": "execute_result"
    }
   ],
   "source": [
    "class_weight"
   ]
  },
  {
   "cell_type": "code",
   "execution_count": 208,
   "metadata": {},
   "outputs": [
    {
     "data": {
      "text/plain": [
       "{'acq': 2369,\n",
       " 'alum': 58,\n",
       " 'barley': 51,\n",
       " 'bop': 105,\n",
       " 'carcass': 68,\n",
       " 'castor-oil': 2,\n",
       " 'cocoa': 73,\n",
       " 'coconut': 6,\n",
       " 'coconut-oil': 7,\n",
       " 'coffee': 139,\n",
       " 'copper': 65,\n",
       " 'copra-cake': 3,\n",
       " 'corn': 237,\n",
       " 'cotton': 59,\n",
       " 'cotton-oil': 3,\n",
       " 'cpi': 97,\n",
       " 'cpu': 4,\n",
       " 'crude': 578,\n",
       " 'dfl': 3,\n",
       " 'dlr': 175,\n",
       " 'dmk': 14,\n",
       " 'earn': 3964,\n",
       " 'fuel': 23,\n",
       " 'gas': 54,\n",
       " 'gnp': 136,\n",
       " 'gold': 124,\n",
       " 'grain': 582,\n",
       " 'groundnut': 9,\n",
       " 'groundnut-oil': 2,\n",
       " 'heat': 19,\n",
       " 'hog': 22,\n",
       " 'housing': 20,\n",
       " 'income': 16,\n",
       " 'instal-debt': 6,\n",
       " 'interest': 478,\n",
       " 'ipi': 53,\n",
       " 'iron-steel': 54,\n",
       " 'jet': 5,\n",
       " 'jobs': 67,\n",
       " 'l-cattle': 8,\n",
       " 'lead': 29,\n",
       " 'lei': 15,\n",
       " 'lin-oil': 2,\n",
       " 'livestock': 99,\n",
       " 'lumber': 16,\n",
       " 'meal-feed': 49,\n",
       " 'money-fx': 717,\n",
       " 'money-supply': 174,\n",
       " 'naphtha': 6,\n",
       " 'nat-gas': 105,\n",
       " 'nickel': 9,\n",
       " 'nkr': 3,\n",
       " 'nzdlr': 4,\n",
       " 'oat': 14,\n",
       " 'oilseed': 171,\n",
       " 'orange': 27,\n",
       " 'palladium': 3,\n",
       " 'palm-oil': 40,\n",
       " 'palmkernel': 3,\n",
       " 'pet-chem': 32,\n",
       " 'platinum': 12,\n",
       " 'potato': 6,\n",
       " 'propane': 6,\n",
       " 'rand': 3,\n",
       " 'rape-oil': 8,\n",
       " 'rapeseed': 27,\n",
       " 'reserves': 73,\n",
       " 'retail': 25,\n",
       " 'rice': 59,\n",
       " 'rubber': 49,\n",
       " 'rye': 2,\n",
       " 'ship': 286,\n",
       " 'silver': 29,\n",
       " 'sorghum': 34,\n",
       " 'soy-meal': 26,\n",
       " 'soy-oil': 25,\n",
       " 'soybean': 111,\n",
       " 'strategic-metal': 27,\n",
       " 'sugar': 162,\n",
       " 'sun-meal': 2,\n",
       " 'sun-oil': 7,\n",
       " 'sunseed': 16,\n",
       " 'tea': 13,\n",
       " 'tin': 30,\n",
       " 'trade': 485,\n",
       " 'veg-oil': 124,\n",
       " 'wheat': 283,\n",
       " 'wpi': 29,\n",
       " 'yen': 59,\n",
       " 'zinc': 34}"
      ]
     },
     "execution_count": 208,
     "metadata": {},
     "output_type": "execute_result"
    }
   ],
   "source": [
    "{c: len(reuters.fileids(c)) for c in reuters.categories()}"
   ]
  },
  {
   "cell_type": "code",
   "execution_count": null,
   "metadata": {
    "collapsed": true
   },
   "outputs": [],
   "source": []
  }
 ],
 "metadata": {
  "anaconda-cloud": {},
  "kernelspec": {
   "display_name": "Python [default]",
   "language": "python",
   "name": "python3"
  },
  "language_info": {
   "codemirror_mode": {
    "name": "ipython",
    "version": 3
   },
   "file_extension": ".py",
   "mimetype": "text/x-python",
   "name": "python",
   "nbconvert_exporter": "python",
   "pygments_lexer": "ipython3",
   "version": "3.5.4"
  },
  "widgets": {
   "state": {
    "23f50566385044eab550617640c37dc6": {
     "views": [
      {
       "cell_index": 4
      }
     ]
    },
    "4dfb599c13124f44b658621a8190e12f": {
     "views": [
      {
       "cell_index": 3
      }
     ]
    },
    "cc565c92385b4f4f856adab2109baf3a": {
     "views": [
      {
       "cell_index": 3
      }
     ]
    },
    "d1c3cfa78a774d609a03bbd4bbb8b414": {
     "views": [
      {
       "cell_index": 3
      }
     ]
    },
    "dfa5a8703f1843aa8f7e72a2a8942db5": {
     "views": [
      {
       "cell_index": 4
      }
     ]
    }
   },
   "version": "1.2.0"
  }
 },
 "nbformat": 4,
 "nbformat_minor": 1
}
